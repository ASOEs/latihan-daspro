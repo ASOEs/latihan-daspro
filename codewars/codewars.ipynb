{
 "cells": [
  {
   "cell_type": "code",
   "execution_count": 9,
   "metadata": {},
   "outputs": [
    {
     "name": "stdout",
     "output_type": "stream",
     "text": [
      "130\n"
     ]
    }
   ],
   "source": [
    "def rent_car_cost(d):\n",
    "    if d >= 7 :\n",
    "        diskon = 50\n",
    "    if d >=3 :\n",
    "        diskon = 30\n",
    "    return d * 40 -diskon\n",
    "\n",
    "hasil = rent_car_cost(4)\n",
    "print(hasil)"
   ]
  },
  {
   "cell_type": "code",
   "execution_count": 12,
   "metadata": {},
   "outputs": [
    {
     "name": "stdout",
     "output_type": "stream",
     "text": [
      "Two\n"
     ]
    }
   ],
   "source": [
    "def switch(n):\n",
    "    return [\"Zero\",\"One\",\"Two\",\"Three\",\"Four\",\"Five\",\"Six\",\"Seven\",\"Eight\",\"Nine\"][n] \n",
    "\n",
    "hasil = switch(2)\n",
    "print(hasil)"
   ]
  },
  {
   "cell_type": "code",
   "execution_count": 17,
   "metadata": {},
   "outputs": [
    {
     "name": "stdout",
     "output_type": "stream",
     "text": [
      "27\n"
     ]
    }
   ],
   "source": [
    "def simple_multiplication(number) :\n",
    "    if number %2==0:\n",
    "        result = 8 * number\n",
    "    if number %2 == 1:\n",
    "        result = 9 * number\n",
    "    return result\n",
    "hasil = simple_multiplication(3)\n",
    "print(hasil)"
   ]
  },
  {
   "cell_type": "code",
   "execution_count": 30,
   "metadata": {},
   "outputs": [
    {
     "name": "stdout",
     "output_type": "stream",
     "text": [
      "[4, 32, 34]\n"
     ]
    }
   ],
   "source": [
    "def human_years_cat_years_dog_years(human_years):\n",
    "    cat_years = 15 + (9 * (human_years > 1)) + (4 * (human_years - 2) * (human_years > 2))\n",
    "    dog_years = 15 + (9 * (human_years  > 1)) + (5 * (human_years  - 2) * (human_years  > 2))\n",
    "    return [human_years , cat_years, dog_years]\n",
    "\n",
    "hasil = human_years_cat_years_dog_years(4)\n",
    "print(hasil)"
   ]
  }
 ],
 "metadata": {
  "kernelspec": {
   "display_name": "Python 3",
   "language": "python",
   "name": "python3"
  },
  "language_info": {
   "codemirror_mode": {
    "name": "ipython",
    "version": 3
   },
   "file_extension": ".py",
   "mimetype": "text/x-python",
   "name": "python",
   "nbconvert_exporter": "python",
   "pygments_lexer": "ipython3",
   "version": "3.11.5"
  }
 },
 "nbformat": 4,
 "nbformat_minor": 2
}
